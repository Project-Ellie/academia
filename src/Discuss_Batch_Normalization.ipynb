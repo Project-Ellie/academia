{
 "cells": [
  {
   "cell_type": "markdown",
   "metadata": {
    "slideshow": {
     "slide_type": "slide"
    }
   },
   "source": [
    "# <span style=\"color:blue\">Batch Normalization ([Szegedy, Ioffe 2015](https://arxiv.org/pdf/1502.03167.pdf))</span>\n",
    "### Additional Resources:\n",
    "\n",
    "[Ian Goodfellow: Deep Learning chapter 8.7.1](http://www.deeplearningbook.org/contents/optimization.html) for a more in-depth explanation\n",
    "\n",
    "or more picturesque for your 4-year old daughter: [Lab41 in Medium](https://gab41.lab41.org/batch-normalization-what-the-hey-d480039a9e3b)"
   ]
  },
  {
   "cell_type": "markdown",
   "metadata": {},
   "source": [
    "#### Normalization in a dense layer \n",
    "Normalize before activation: Consider a batch B of size m: Output $z = W \\cdot x$\n",
    "\n",
    "Mini-batch mean over z (element-wise): $\\mu_B := \\frac{1}{m}\\sum_{i=1}^{m}z_i$\n",
    "\n",
    "Variance: $\\sigma_B^2 := \\frac{1}{m}\\sum_{i=1}^m(\\mu_B - z_i)^2$\n",
    "\n",
    "Normalize: $\\hat{z}_i := \\frac{z_i - \\mu_b}{\\sqrt{\\sigma_B^2 + \\epsilon}}$\n",
    "\n",
    "Scale and shift: $ BN_{\\gamma,\\beta}(\\hat{z}_i) := \\gamma \\cdot \\hat{z}_i + \\beta$ \n",
    "\n",
    "Only then apply activation function"
   ]
  },
  {
   "cell_type": "code",
   "execution_count": 1,
   "metadata": {},
   "outputs": [],
   "source": [
    "from mnist import train_batcher as batcher\n",
    "from mnist import test_batcher as tbatcher"
   ]
  },
  {
   "cell_type": "code",
   "execution_count": 2,
   "metadata": {},
   "outputs": [],
   "source": [
    "from matplotlib import pyplot as plt\n",
    "import numpy as np\n",
    "import json"
   ]
  },
  {
   "cell_type": "code",
   "execution_count": 3,
   "metadata": {},
   "outputs": [
    {
     "data": {
      "image/png": "[encoded data removed]",
      "text/plain": [
       "<matplotlib.figure.Figure at 0x1136cd6d8>"
      ]
     },
     "metadata": {},
     "output_type": "display_data"
    }
   ],
   "source": [
    "imgs_, _ = batcher.next_batch(100)\n",
    "if not batcher.has_more():\n",
    "    batcher.reset()\n",
    "else:\n",
    "    plt.imshow(imgs_[50, :, :])\n",
    "    plt.show()"
   ]
  },
  {
   "cell_type": "code",
   "execution_count": 4,
   "metadata": {},
   "outputs": [
    {
     "data": {
      "image/png": "[encoded data removed]",
      "text/plain": [
       "<matplotlib.figure.Figure at 0x1136f0f60>"
      ]
     },
     "metadata": {},
     "output_type": "display_data"
    }
   ],
   "source": [
    "x1010 = np.squeeze(imgs_[:, 10, 10])\n",
    "plt.hist(x1010)\n",
    "plt.show()"
   ]
  },
  {
   "cell_type": "code",
   "execution_count": 5,
   "metadata": {},
   "outputs": [],
   "source": [
    "def normalize_batch(x, gamma, beta):\n",
    "    epsilon = 1e-8\n",
    "    m = x.shape[0]\n",
    "    mu_b=np.sum(x, axis=0)/m\n",
    "    s2 = np.sum((x - mu_b)**2, axis=0)/m\n",
    "    x_hat = (x - mu_b)/np.sqrt(s2 + epsilon)\n",
    "    return beta + gamma*x_hat"
   ]
  },
  {
   "cell_type": "code",
   "execution_count": 6,
   "metadata": {},
   "outputs": [
    {
     "data": {
      "image/png": "[encoded data removed]",
      "text/plain": [
       "<matplotlib.figure.Figure at 0x113751f98>"
      ]
     },
     "metadata": {},
     "output_type": "display_data"
    }
   ],
   "source": [
    "normalized = normalize_batch(imgs_, gamma=1, beta=0)\n",
    "n1010 = np.squeeze(normalized[:, 10, 10])\n",
    "plt.hist(n1010)\n",
    "plt.show()"
   ]
  },
  {
   "cell_type": "markdown",
   "metadata": {},
   "source": [
    "The normalized amplitudes have average 0 and stdev = 1"
   ]
  },
  {
   "cell_type": "code",
   "execution_count": 7,
   "metadata": {},
   "outputs": [
    {
     "data": {
      "text/plain": [
       "(1.1920928955078126e-08, 0.9999997711181379)"
      ]
     },
     "execution_count": 7,
     "metadata": {},
     "output_type": "execute_result"
    }
   ],
   "source": [
    "x=normalized[:, 10, 10]\n",
    "m=x.shape[0]\n",
    "avg=np.sum(x, axis=0)/m\n",
    "stdev = np.sqrt(np.sum((x - avg)**2, axis=0)/m)\n",
    "avg, stdev"
   ]
  },
  {
   "cell_type": "markdown",
   "metadata": {},
   "source": [
    "## Translational degrees of freedom\n",
    "$\\beta$ and $\\gamma$ now are also learnable parameters. The network hopefully chooses to use this degree of freedom wisely such that it benefits most from the non-linearity. \n",
    "\n",
    "Note that e.g. the popular sigmoid function \n",
    "$$ \\sigma(x) = \\frac{1}{1+e^{-x}}$$\n",
    "gets more linear, when x is close to 0. The more linear the activation is, the less expressive the network becomes, as any two dense layers $(M \\times N), (N \\times P)$, are equivalent to a single dense layer $(M \\times P)$, if not separated by a non-linearity. "
   ]
  },
  {
   "cell_type": "code",
   "execution_count": 8,
   "metadata": {},
   "outputs": [
    {
     "data": {
      "image/png": "[encoded data removed]",
      "text/plain": [
       "<matplotlib.figure.Figure at 0x1136f95c0>"
      ]
     },
     "metadata": {},
     "output_type": "display_data"
    }
   ],
   "source": [
    "a_x=np.array([x/10.0-5 for x in range(100)])\n",
    "sigmoid=1/(1.0+np.exp(-a_x))\n",
    "plt.plot(a_x,sigmoid)\n",
    "plt.show()"
   ]
  },
  {
   "cell_type": "markdown",
   "metadata": {},
   "source": [
    "\n",
    "# <span style=\"color:blue\">Tensorflow</span>"
   ]
  },
  {
   "cell_type": "code",
   "execution_count": 9,
   "metadata": {},
   "outputs": [],
   "source": [
    "import tensorflow as tf\n",
    "tf.reset_default_graph()\n",
    "sess=tf.InteractiveSession()"
   ]
  },
  {
   "cell_type": "markdown",
   "metadata": {},
   "source": [
    "### Placeholders: Input and Labels"
   ]
  },
  {
   "cell_type": "code",
   "execution_count": 10,
   "metadata": {},
   "outputs": [
    {
     "data": {
      "text/plain": [
       "(<tf.Tensor 'X:0' shape=(?, 784) dtype=float32>,\n",
       " <tf.Tensor 'Cast:0' shape=(?,) dtype=int64>,\n",
       " <tf.Tensor 'one_hot:0' shape=(?, 10) dtype=float32>)"
      ]
     },
     "execution_count": 10,
     "metadata": {},
     "output_type": "execute_result"
    }
   ],
   "source": [
    "X=tf.placeholder(shape=[None, 784], dtype=tf.float32, name=\"X\")\n",
    "\n",
    "LBLS=tf.cast(tf.placeholder(shape=[None], dtype=tf.float32, name=\"Y_\"), dtype=tf.int64)\n",
    "\n",
    "Y_=tf.one_hot(tf.cast(LBLS, dtype=tf.int32), 10)\n",
    "\n",
    "X, LBLS, Y_"
   ]
  },
  {
   "cell_type": "markdown",
   "metadata": {},
   "source": [
    "## Batch Norm Tensor "
   ]
  },
  {
   "cell_type": "code",
   "execution_count": 11,
   "metadata": {},
   "outputs": [],
   "source": [
    "beta = tf.get_variable(initializer=tf.constant(0.0), name=\"beta\")\n",
    "gamma = tf.get_variable(initializer=tf.constant(1.0), name=\"gamma\")\n",
    "def tf_normalize(x, gamma=tf.constant(1.0), beta=tf.constant(0.0)):\n",
    "    epsilon = tf.constant(1e-8, name=\"epsilon\")\n",
    "    mu_b=tf.reduce_mean(x, axis=0)\n",
    "    s2 = tf.reduce_mean(tf.square(x - mu_b), axis=0, name=\"s2\")\n",
    "    x_hat = tf.divide((x - mu_b),tf.sqrt(s2 + epsilon))\n",
    "    return beta + gamma * x_hat"
   ]
  },
  {
   "cell_type": "markdown",
   "metadata": {},
   "source": [
    "## Create a simple 3-layer dense net"
   ]
  },
  {
   "cell_type": "code",
   "execution_count": 12,
   "metadata": {},
   "outputs": [],
   "source": [
    "def add_stats (stats, name, tensor):\n",
    "    \"\"\"\n",
    "    Little helper to get useful statistics out of the model\n",
    "    takes a stats dictionary and adds min/max/mean stats to it, using 'name' as the key\n",
    "    \"\"\"    \n",
    "    mean = tf.reduce_mean(tensor)\n",
    "    stats[name] = {\n",
    "        \"mean\": tf.reduce_mean(tensor),\n",
    "        \"min\": tf.reduce_min(tensor),\n",
    "        \"max\": tf.reduce_max(tensor)        \n",
    "    }\n",
    "    return stats\n",
    "\n",
    "\n",
    "def dense(name, input, dim_in, dim_out, stats):\n",
    "    \"\"\"\n",
    "    dense layer, adding statistics about weights and biases\n",
    "    \"\"\"    \n",
    "    with tf.name_scope(name):\n",
    "        W = tf.Variable(initial_value=tf.random_normal(shape=[dim_out, dim_in], mean=0.0, stddev=1e-2), name=\"W\")\n",
    "        add_stats(stats, name+\"_W\", W)\n",
    "        b = tf.Variable(initial_value=np.zeros([dim_out]), dtype=tf.float32, name=\"b\")\n",
    "        add_stats(stats, name+\"_b\", b)\n",
    "    return tf.matmul(input, tf.transpose(W)) + tf.transpose(b)"
   ]
  },
  {
   "cell_type": "code",
   "execution_count": 13,
   "metadata": {},
   "outputs": [],
   "source": [
    "def model_forward(X, use_bn=False, name_scope=\"default\"):\n",
    "    \"\"\"\n",
    "    A three dense-layer forward feed\n",
    "    if use_bn == true, will use batch normalization after the first and second layer\n",
    "    the input will be normalized, anyway\n",
    "    X: the input vector of shape (batch_size, 784)\n",
    "    \"\"\"\n",
    "\n",
    "    with tf.name_scope(name_scope):\n",
    "        beta1 = tf.Variable(initial_value=tf.constant(0.0), name=\"beta1\")\n",
    "        gamma1 = tf.Variable(initial_value=tf.constant(1.0), name=\"gamma1\")\n",
    "        beta2 = tf.Variable(initial_value=tf.constant(0.0), name=\"beta2\")\n",
    "        gamma2 = tf.Variable(initial_value=tf.constant(1.0), name=\"gamma2\")\n",
    "\n",
    "        stats={}\n",
    "        X_norm = tf_normalize(X) # This is input normalization - whitening.\n",
    "        affine1 = dense(input=X_norm, name=\"Layer1\", dim_in=784, dim_out=256, stats=stats)\n",
    "        if use_bn:\n",
    "            affine1=tf_normalize(affine1, beta=beta1, gamma=gamma1)\n",
    "        act1 = tf.nn.relu(affine1)\n",
    "        affine2 = dense(input=act1, name=\"Layer2\", dim_in=256, dim_out=64, stats=stats)\n",
    "        if use_bn:\n",
    "            affine2=tf_normalize(affine2, beta=beta2, gamma=gamma2)\n",
    "        act2 = tf.nn.relu(affine2)\n",
    "        logits = dense(input=act2, name=\"Layer3\", dim_in=64, dim_out=10, stats=stats)\n",
    "        pred = tf.nn.softmax(logits, dim=1)\n",
    "    return pred, logits, stats, beta1, gamma1, beta2, gamma2"
   ]
  },
  {
   "cell_type": "markdown",
   "metadata": {},
   "source": [
    "## The network without batch normalization"
   ]
  },
  {
   "cell_type": "code",
   "execution_count": 14,
   "metadata": {},
   "outputs": [
    {
     "name": "stdout",
     "output_type": "stream",
     "text": [
      "WARNING:tensorflow:From <ipython-input-13-031abca72439>:26: calling softmax (from tensorflow.python.ops.nn_ops) with dim is deprecated and will be removed in a future version.\n",
      "Instructions for updating:\n",
      "dim is deprecated, use axis instead\n",
      "WARNING:tensorflow:From <ipython-input-14-442d7722e81f>:2: arg_max (from tensorflow.python.ops.gen_math_ops) is deprecated and will be removed in a future version.\n",
      "Instructions for updating:\n",
      "Use `argmax` instead\n",
      "WARNING:tensorflow:From <ipython-input-14-442d7722e81f>:4: softmax_cross_entropy_with_logits (from tensorflow.python.ops.nn_ops) is deprecated and will be removed in a future version.\n",
      "Instructions for updating:\n",
      "\n",
      "Future major versions of TensorFlow will allow gradients to flow\n",
      "into the labels input on backprop by default.\n",
      "\n",
      "See tf.nn.softmax_cross_entropy_with_logits_v2.\n",
      "\n"
     ]
    },
    {
     "data": {
      "text/plain": [
       "(<tf.Tensor 'without_BN/Softmax:0' shape=(?, 10) dtype=float32>,\n",
       " <tf.Tensor 'Sum:0' shape=() dtype=float32>,\n",
       " <tf.Tensor 'ArgMax:0' shape=(?,) dtype=int64>,\n",
       " <tf.Tensor 'Cast:0' shape=(?,) dtype=int64>,\n",
       " <tf.Tensor 'one_hot:0' shape=(?, 10) dtype=float32>)"
      ]
     },
     "execution_count": 14,
     "metadata": {},
     "output_type": "execute_result"
    }
   ],
   "source": [
    "pred, logits, stats, beta1, gamma1, beta2, gamma2 = model_forward(X, name_scope=\"without_BN\", use_bn=False)\n",
    "preds = tf.arg_max(pred, dimension=1)\n",
    "acc = tf.reduce_mean(tf.cast(tf.equal(x=preds,y=LBLS), dtype=tf.float32))\n",
    "loss = tf.reduce_sum(tf.nn.softmax_cross_entropy_with_logits(labels=Y_, logits=logits))\n",
    "pred, loss, preds, LBLS, Y_"
   ]
  },
  {
   "cell_type": "markdown",
   "metadata": {},
   "source": [
    "## The network with batch normalization"
   ]
  },
  {
   "cell_type": "code",
   "execution_count": 15,
   "metadata": {},
   "outputs": [
    {
     "data": {
      "text/plain": [
       "(<tf.Tensor 'with_BN/Softmax:0' shape=(?, 10) dtype=float32>,\n",
       " <tf.Tensor 'Sum_1:0' shape=() dtype=float32>,\n",
       " <tf.Tensor 'ArgMax_1:0' shape=(?,) dtype=int64>,\n",
       " <tf.Tensor 'Cast:0' shape=(?,) dtype=int64>,\n",
       " <tf.Tensor 'one_hot:0' shape=(?, 10) dtype=float32>)"
      ]
     },
     "execution_count": 15,
     "metadata": {},
     "output_type": "execute_result"
    }
   ],
   "source": [
    "pred1, logits1, stats1, beta1, gamma1, beta2, gamma2= model_forward(X, name_scope=\"with_BN\", use_bn=True)\n",
    "preds1 = tf.arg_max(pred1, dimension=1)\n",
    "acc1 = tf.reduce_mean(tf.cast(tf.equal(x=preds1,y=LBLS), dtype=tf.float32))\n",
    "loss1 = tf.reduce_sum(tf.nn.softmax_cross_entropy_with_logits(labels=Y_, logits=logits1))\n",
    "pred1, loss1, preds1, LBLS, Y_"
   ]
  },
  {
   "cell_type": "code",
   "execution_count": 16,
   "metadata": {},
   "outputs": [],
   "source": [
    "def train ( acc, loss, stats ):\n",
    "    trainer=tf.train.AdamOptimizer(learning_rate=1e-4)\n",
    "    step=trainer.minimize(loss=loss)\n",
    "    num_epochs=10\n",
    "    batch_size=1000\n",
    "    _loss=-1\n",
    "    _acc=0\n",
    "    sess.run(tf.global_variables_initializer())\n",
    "    batcher.reset()\n",
    "    rec_loss=[]\n",
    "    rec_acc=[]\n",
    "    rec_tacc=[]\n",
    "    rec_beta1=[]\n",
    "    rec_gamma1=[]\n",
    "    rec_beta2=[]\n",
    "    rec_gamma2=[]\n",
    "    print(\"batch size: %s\" % batch_size)\n",
    "    i = 0\n",
    "\n",
    "    for i in range (num_epochs):\n",
    "        batcher.reset()\n",
    "        while batcher.has_more():\n",
    "\n",
    "            imgs, lbls = batcher.next_batch(batch_size)\n",
    "            imgs = imgs.reshape(-1, 784)\n",
    "            _, _acc, _loss, _stats, _beta1, _gamma1, _beta2, _gamma2 = \\\n",
    "                sess.run([step, acc, loss, stats, beta1, gamma1, beta2, gamma2], \n",
    "                         feed_dict={X: imgs, LBLS: lbls })\n",
    "\n",
    "            #\n",
    "            #  accuracy on the first 1000 samples of the test set\n",
    "            #\n",
    "            tbatcher.reset()\n",
    "            timgs, tlbls = tbatcher.next_batch(1000)\n",
    "            timgs = timgs.reshape(-1, 784)\n",
    "            _tacc = sess.run([acc], feed_dict={X: timgs, LBLS: tlbls })\n",
    "\n",
    "            # \n",
    "            #  record the main metrics\n",
    "            #\n",
    "            rec_acc.append(_acc)\n",
    "            rec_loss.append(_loss)\n",
    "            rec_tacc.append(_tacc)\n",
    "            rec_beta1.append(_beta1)\n",
    "            rec_gamma1.append(_gamma1)\n",
    "            rec_beta2.append(_beta2)\n",
    "            rec_gamma2.append(_gamma2)\n",
    "\n",
    "        print(\"Epoch %s, Accuracy: %s, Loss: %s\" % (i, _acc, _loss))    \n",
    "        print(\"gamma1: %s, beta1: %s, gamma2: %s, beta2: %s\" % (_gamma1, _beta1, _gamma2, _beta2))\n",
    "\n",
    "    print(_stats)\n",
    "    print(\"Done\")    \n",
    "    return {\"loss\": rec_loss, \"training_accuracy\": rec_acc, \"test_accuracy\": rec_tacc, \n",
    "            \"bn\": {\"beta1\": rec_beta1, \"gamma1\": rec_gamma1, \"beta2\": rec_beta2, \"gamma2\": rec_gamma2}}\n"
   ]
  },
  {
   "cell_type": "code",
   "execution_count": 17,
   "metadata": {},
   "outputs": [
    {
     "name": "stdout",
     "output_type": "stream",
     "text": [
      "batch size: 1000\n",
      "Epoch 0, Accuracy: 0.555, Loss: 2146.434\n",
      "gamma1: 1.0, beta1: 0.0, gamma2: 1.0, beta2: 0.0\n",
      "Epoch 1, Accuracy: 0.59, Loss: 1397.3645\n",
      "gamma1: 1.0, beta1: 0.0, gamma2: 1.0, beta2: 0.0\n",
      "Epoch 2, Accuracy: 0.762, Loss: 847.3824\n",
      "gamma1: 1.0, beta1: 0.0, gamma2: 1.0, beta2: 0.0\n",
      "Epoch 3, Accuracy: 0.853, Loss: 577.88684\n",
      "gamma1: 1.0, beta1: 0.0, gamma2: 1.0, beta2: 0.0\n",
      "Epoch 4, Accuracy: 0.897, Loss: 421.13986\n",
      "gamma1: 1.0, beta1: 0.0, gamma2: 1.0, beta2: 0.0\n",
      "Epoch 5, Accuracy: 0.919, Loss: 321.37366\n",
      "gamma1: 1.0, beta1: 0.0, gamma2: 1.0, beta2: 0.0\n",
      "Epoch 6, Accuracy: 0.932, Loss: 262.4823\n",
      "gamma1: 1.0, beta1: 0.0, gamma2: 1.0, beta2: 0.0\n",
      "Epoch 7, Accuracy: 0.946, Loss: 227.79375\n",
      "gamma1: 1.0, beta1: 0.0, gamma2: 1.0, beta2: 0.0\n",
      "Epoch 8, Accuracy: 0.954, Loss: 204.80084\n",
      "gamma1: 1.0, beta1: 0.0, gamma2: 1.0, beta2: 0.0\n",
      "Epoch 9, Accuracy: 0.96, Loss: 188.05246\n",
      "gamma1: 1.0, beta1: 0.0, gamma2: 1.0, beta2: 0.0\n",
      "{'Layer1_W': {'mean': -0.00620354, 'min': -0.094232954, 'max': 0.09766245}, 'Layer1_b': {'mean': 0.03585081, 'min': 0.0038621565, 'max': 0.06349157}, 'Layer2_W': {'mean': 0.012235893, 'min': -0.104245484, 'max': 0.08766963}, 'Layer2_b': {'mean': 0.021041706, 'min': -0.013020227, 'max': 0.044048212}, 'Layer3_W': {'mean': -0.0056749275, 'min': -0.081402466, 'max': 0.085603066}, 'Layer3_b': {'mean': -0.0036269482, 'min': -0.028475769, 'max': 0.035247162}}\n",
      "Done\n"
     ]
    }
   ],
   "source": [
    "res = train ( acc, loss, stats )"
   ]
  },
  {
   "cell_type": "code",
   "execution_count": 18,
   "metadata": {},
   "outputs": [
    {
     "data": {
      "image/png": "[encoded data removed]",
      "text/plain": [
       "<matplotlib.figure.Figure at 0x10d909358>"
      ]
     },
     "metadata": {},
     "output_type": "display_data"
    }
   ],
   "source": [
    "rec_loss_n = [l/2500 for l in res[\"loss\"]]\n",
    "plt.plot(res[\"training_accuracy\"])\n",
    "plt.plot(res[\"test_accuracy\"])\n",
    "plt.plot(rec_loss_n)\n",
    "plt.show()"
   ]
  },
  {
   "cell_type": "markdown",
   "metadata": {},
   "source": [
    "### Now using batch normalization "
   ]
  },
  {
   "cell_type": "code",
   "execution_count": 19,
   "metadata": {},
   "outputs": [
    {
     "name": "stdout",
     "output_type": "stream",
     "text": [
      "batch size: 1000\n",
      "Epoch 0, Accuracy: 0.884, Loss: 1892.4316\n",
      "gamma1: 0.99554616, beta1: 0.0040401565, gamma2: 1.0067172, beta2: 0.0066658882\n",
      "Epoch 1, Accuracy: 0.932, Loss: 1640.4202\n",
      "gamma1: 1.0011051, beta1: -0.0018981305, gamma2: 1.0149785, beta2: 0.0147523135\n",
      "Epoch 2, Accuracy: 0.957, Loss: 1415.6311\n",
      "gamma1: 0.98850596, beta1: -0.011384083, gamma2: 1.0233966, beta2: 0.023063451\n",
      "Epoch 3, Accuracy: 0.969, Loss: 1211.7058\n",
      "gamma1: 0.97508615, beta1: -0.02021159, gamma2: 1.0317454, beta2: 0.031357046\n",
      "Epoch 4, Accuracy: 0.974, Loss: 1030.4243\n",
      "gamma1: 0.9632542, beta1: -0.027927637, gamma2: 1.0398968, beta2: 0.039464656\n",
      "Epoch 5, Accuracy: 0.976, Loss: 875.579\n",
      "gamma1: 0.95266205, beta1: -0.03472045, gamma2: 1.0477494, beta2: 0.04726242\n",
      "Epoch 6, Accuracy: 0.978, Loss: 745.36444\n",
      "gamma1: 0.94293094, beta1: -0.040856462, gamma2: 1.0552328, beta2: 0.054679424\n",
      "Epoch 7, Accuracy: 0.984, Loss: 636.2815\n",
      "gamma1: 0.93385184, beta1: -0.046501093, gamma2: 1.0623177, beta2: 0.06168421\n",
      "Epoch 8, Accuracy: 0.986, Loss: 545.3191\n",
      "gamma1: 0.9252971, beta1: -0.051755603, gamma2: 1.0690004, beta2: 0.06827016\n",
      "Epoch 9, Accuracy: 0.987, Loss: 469.77805\n",
      "gamma1: 0.9171728, beta1: -0.056692317, gamma2: 1.0752913, beta2: 0.074446075\n",
      "{'Layer1_W': {'mean': -0.00087706017, 'min': -0.06795963, 'max': 0.047399946}, 'Layer1_b': {'mean': 9.1012545e-05, 'min': -0.008074462, 'max': 0.009637727}, 'Layer2_W': {'mean': -2.8201095e-05, 'min': -0.040111143, 'max': 0.041471202}, 'Layer2_b': {'mean': -0.00050244585, 'min': -0.007998365, 'max': 0.010462698}, 'Layer3_W': {'mean': -0.023879442, 'min': -0.091251396, 'max': 0.09308636}, 'Layer3_b': {'mean': -0.0023487292, 'min': -0.045559954, 'max': 0.049151447}}\n",
      "Done\n"
     ]
    }
   ],
   "source": [
    "res = train ( acc1, loss1, stats1 )"
   ]
  },
  {
   "cell_type": "code",
   "execution_count": 20,
   "metadata": {},
   "outputs": [
    {
     "data": {
      "image/png": "[encoded data removed]",
      "text/plain": [
       "<matplotlib.figure.Figure at 0x112a0be10>"
      ]
     },
     "metadata": {},
     "output_type": "display_data"
    }
   ],
   "source": [
    "rec_loss_n = [l/2500 for l in res[\"loss\"]]\n",
    "plt.plot(res[\"training_accuracy\"])\n",
    "plt.plot(res[\"test_accuracy\"])\n",
    "plt.plot(rec_loss_n)\n",
    "plt.show()"
   ]
  },
  {
   "cell_type": "code",
   "execution_count": null,
   "metadata": {},
   "outputs": [],
   "source": [
    "beta1 = plt.plot(res[\"bn\"][\"beta1\"])\n",
    "beta2 = plt.plot(res[\"bn\"][\"beta2\"])\n",
    "gamma1 = plt.plot(res[\"bn\"][\"gamma1\"])\n",
    "gamma2 = plt.plot(res[\"bn\"][\"gamma2\"])\n",
    "plt.show()"
   ]
  }
 ],
 "metadata": {
  "celltoolbar": "Slideshow",
  "kernelspec": {
   "display_name": "Python 3",
   "language": "python",
   "name": "python3"
  },
  "language_info": {
   "codemirror_mode": {
    "name": "ipython",
    "version": 3
   },
   "file_extension": ".py",
   "mimetype": "text/x-python",
   "name": "python",
   "nbconvert_exporter": "python",
   "pygments_lexer": "ipython3",
   "version": "3.6.1"
  }
 },
 "nbformat": 4,
 "nbformat_minor": 2
}
